{
  "nbformat": 4,
  "nbformat_minor": 0,
  "metadata": {
    "colab": {
      "provenance": [],
      "authorship_tag": "ABX9TyOG+U1+QvgqrQErlzFK6BSF",
      "include_colab_link": true
    },
    "kernelspec": {
      "name": "python3",
      "display_name": "Python 3"
    },
    "language_info": {
      "name": "python"
    }
  },
  "cells": [
    {
      "cell_type": "markdown",
      "metadata": {
        "id": "view-in-github",
        "colab_type": "text"
      },
      "source": [
        "<a href=\"https://colab.research.google.com/github/Saad10922/Chat-Application/blob/main/Python_Basic.ipynb\" target=\"_parent\"><img src=\"https://colab.research.google.com/assets/colab-badge.svg\" alt=\"Open In Colab\"/></a>"
      ]
    },
    {
      "cell_type": "code",
      "execution_count": null,
      "metadata": {
        "colab": {
          "base_uri": "https://localhost:8080/"
        },
        "id": "ZIhyUjO6eUb-",
        "outputId": "644b0f63-b1e7-488c-92c5-f03484d86617"
      },
      "outputs": [
        {
          "output_type": "stream",
          "name": "stdout",
          "text": [
            "Enter First Number : 10\n",
            "Enter Second Number : 20\n",
            "Sum =  30\n",
            "Difference =  -10\n",
            "Product =  200\n",
            "Division =  0.5\n"
          ]
        }
      ],
      "source": [
        "a=int(input(\"Enter First Number : \"))\n",
        "b=int(input(\"Enter Second Number : \"))\n",
        "print(\"Sum = \", a+b)\n",
        "print(\"Difference = \", a-b)\n",
        "print(\"Product = \", a*b)\n",
        "print(\"Division = \", a/b)\n",
        "\n",
        "\n"
      ]
    },
    {
      "cell_type": "code",
      "source": [
        "# Writing Quotes in Strings\n",
        "a=\"My name is \\\"M Saad Masood\\\"\"\n",
        "b=\"\"\"My name is \"M Saad Masood\" \"\"\"\n",
        "print(a)\n",
        "print(b)\n",
        "\n",
        "#Loops in Strings\n",
        "\n",
        "Weather = \"I am Trading on Meme Coins\"\n",
        "# for chars in Weather :\n",
        "#   print(chars)\n",
        "\n",
        "  ################################\n",
        "\n",
        "for chars in Weather :\n",
        " { print(chars, end='')}\n",
        "print('\\n')\n",
        "\n",
        "\n",
        "  # String Methods\n",
        "\n",
        "print(len(Weather))\n",
        "print(Weather[4:12])\n",
        "\n",
        "name= \"m saad masood\"\n",
        "\n",
        "print(name.upper())\n",
        "print(name.lower())\n",
        "print(name.capitalize())\n",
        "# print(name.rstrip(\"!!\"))\n",
        "\n",
        "Weather.replace(\"Meme\",\"Bit\")\n",
        "print(Weather.replace(\"Meme\",\"Bit\"))\n",
        "\n",
        "print(name.count(\"m\"))\n",
        "print(name.center(50))\n",
        "print(Weather.find('on'))\n",
        "# print(Weather.index('on1'))\n",
        "\n",
        "\n",
        "items= \"Mango orange banana apple grapes\"\n",
        "\n",
        "print(items.split())\n",
        "\n",
        "\n",
        "\n",
        "mixed=\"thereare5Applesonthetable\"\n",
        "#If there are White Spces in your String then your string is not alphanumeric or Alphabetic\n",
        "\n",
        "print(mixed.isalnum())\n",
        "print(mixed.isalpha())\n",
        "\n",
        "\n",
        "intro=\"Life is not the Race Be in patience  Your time will be come \"\n",
        "print(intro.isprintable())\n",
        "\n",
        "print(intro.startswith(\"Life\"))\n",
        "print(intro.title())\n",
        "\n",
        "\n",
        "\n",
        "\n",
        "\n"
      ],
      "metadata": {
        "colab": {
          "base_uri": "https://localhost:8080/"
        },
        "id": "BLjh9sxGJydd",
        "outputId": "1fb16fe4-eeed-4c33-930e-4df58279dcc1"
      },
      "execution_count": null,
      "outputs": [
        {
          "output_type": "stream",
          "name": "stdout",
          "text": [
            "My name is \"M Saad Masood\"\n",
            "My name is \"M Saad Masood\" \n",
            "I am Trading on Meme Coins\n",
            "\n",
            "26\n",
            " Trading\n",
            "M SAAD MASOOD\n",
            "m saad masood\n",
            "M saad masood\n",
            "I am Trading on Bit Coins\n",
            "2\n",
            "                  m saad masood                   \n",
            "13\n",
            "['Mango', 'orange', 'banana', 'apple', 'grapes']\n",
            "True\n",
            "False\n",
            "True\n",
            "True\n",
            "Life Is Not The Race Be In Patience  Your Time Will Be Come \n"
          ]
        }
      ]
    },
    {
      "cell_type": "code",
      "source": [
        "#Conditinal Statements\n",
        "\n",
        "age=(int(input(\"Enter Your Age : \")))\n",
        "if(age>=18):\n",
        "  print(\"You are Eligible to Drive\")\n",
        "else:\n",
        "  print(\"You are not Eligible to Drive\")\n",
        "\n",
        "\n",
        "#Else if concept\n",
        "\n",
        "marks=int(input(\"Enter your Marks : \"))\n",
        "if(marks>=90):\n",
        "  print(\"Grade A\")\n",
        "elif(marks>=80):\n",
        "  print(\"Grade B\")\n",
        "elif(marks>=70):\n",
        "  print(\"Grade C\")\n",
        "elif(marks>=60):\n",
        "  print(\"Grade D\")\n",
        "else:\n",
        "  print(\"Fail\")\n"
      ],
      "metadata": {
        "colab": {
          "base_uri": "https://localhost:8080/"
        },
        "id": "FOtHGpQ7usCY",
        "outputId": "dd30ac86-720d-4cf8-dc3d-68e6c8016990"
      },
      "execution_count": null,
      "outputs": [
        {
          "output_type": "stream",
          "name": "stdout",
          "text": [
            "Enter Your Age : 21\n",
            "You are Eligible to Drive\n",
            "Enter your Marks : 92\n",
            "Grade A\n"
          ]
        }
      ]
    },
    {
      "cell_type": "code",
      "source": [
        "#using time module\n",
        "import time\n",
        "\n",
        "current=time.asctime()\n",
        "current1=time.strftime(\"%c\")\n",
        "print(time.localtime())\n",
        "print(current)\n",
        "print(current1)\n",
        "timestamp=time.strftime(\"%a, %A, %b, %B, %c : %H:%M:%S %p\")\n",
        "print(timestamp)\n",
        "#\n",
        "print(time.strftime(\"%I:%M:%S\",time.localtime()))"
      ],
      "metadata": {
        "colab": {
          "base_uri": "https://localhost:8080/"
        },
        "id": "D0GWZagV1HAc",
        "outputId": "fef10f38-e315-4509-8a2b-4759fcbc7784"
      },
      "execution_count": null,
      "outputs": [
        {
          "output_type": "stream",
          "name": "stdout",
          "text": [
            "time.struct_time(tm_year=2024, tm_mon=8, tm_mday=31, tm_hour=5, tm_min=45, tm_sec=31, tm_wday=5, tm_yday=244, tm_isdst=0)\n",
            "Sat Aug 31 05:45:31 2024\n",
            "Sat Aug 31 05:45:31 2024\n",
            "Sat, Saturday, Aug, August, Sat Aug 31 05:45:31 2024 : 05:45:31 AM\n",
            "05:45:31\n"
          ]
        }
      ]
    },
    {
      "cell_type": "code",
      "source": [
        "Salary=int(input(\"Enter your Salary : \"))\n",
        "match Salary:\n",
        "  case 10000:\n",
        "    Salary=Salary+Salary*0.1\n",
        "    print(\"New Salary : \", Salary)\n",
        "  case 20000:\n",
        "    Salary=Salary+Salary*0.2\n",
        "    print(\"New Salary : \", Salary)\n",
        "  case 30000:\n",
        "    Salary=Salary+Salary*0.3\n",
        "    print(\"New Salary : \", Salary)\n",
        "  case _  if Salary>=50000 :\n",
        "\n",
        "    print(\"New Salary : \", Salary,\"\\n You are near to Retirement\")\n",
        "  case _ if Salary>=40000:\n",
        "    print(\"You have already got All your Increments\")\n",
        "  case _:\n",
        "    print(\"Not the  Salary of our Company\")\n",
        "\n"
      ],
      "metadata": {
        "colab": {
          "base_uri": "https://localhost:8080/"
        },
        "id": "0N7lYFAOAS9m",
        "outputId": "11a146c6-581a-4483-dc21-32281ba7875b"
      },
      "execution_count": null,
      "outputs": [
        {
          "output_type": "stream",
          "name": "stdout",
          "text": [
            "Enter your Salary : 40000\n",
            "You have already got All your Increments\n"
          ]
        }
      ]
    },
    {
      "cell_type": "code",
      "source": [
        "#For Loops in Python\n",
        "\n",
        "#Using Loops in Strings & Lists\n",
        "\n",
        "# toppers = [\"Danish\",\"Ali\",\"Saif\",\"Saad\",\"Asif\"]\n",
        "\n",
        "# for students in toppers:\n",
        "#   print(students)\n",
        "\n",
        "# Quote=\"Man should get every thing he wants\"\n",
        "\n",
        "# for index in Quote:\n",
        "#   print(index)\n",
        "\n",
        "#Using Range in loops\n",
        "\n",
        "# for i in range(5):\n",
        "#   print(i)\n",
        "\n",
        "#Range does not goes to its last Argument\n",
        "# for i in range(1,5):\n",
        "#   print(i)\n",
        "\n",
        "# range(start, stop, step)\n",
        "# start: The starting value of the sequence (inclusive). If omitted, it defaults to 0.\n",
        "# stop: The stopping value of the sequence (exclusive).\n",
        "# step: The amount by which the sequence increments or decrements. If omitted, it defaults to 1.\n",
        "\n",
        "for k in range(1,40,5):\n",
        "  print(k)\n"
      ],
      "metadata": {
        "id": "qA3Ne18VC1TX",
        "colab": {
          "base_uri": "https://localhost:8080/"
        },
        "outputId": "e5675a2a-7783-4e90-ba20-bfc855198efc"
      },
      "execution_count": null,
      "outputs": [
        {
          "output_type": "stream",
          "name": "stdout",
          "text": [
            "1\n",
            "6\n",
            "11\n",
            "16\n",
            "21\n",
            "26\n",
            "31\n",
            "36\n"
          ]
        }
      ]
    },
    {
      "cell_type": "code",
      "source": [
        "#While loop\n",
        "num = int(input(\"Guess a Number B/w 1 - 10 \"))\n",
        "\n",
        "\n",
        "# while(num!=7):\n",
        "#   print(\"Your Guess is not correct, Guess Again!!\")\n",
        "#   num = int(input(\"Guess a Number B/w 1 - 10 \"))\n",
        "\n",
        "# print(\"You Got the number : 7\")\n",
        "\n",
        "\n",
        "#Using else with while loops\n",
        "\n",
        "while(num!=7):\n",
        "  print(\"Your Guess is not correct, Guess Again!!\")\n",
        "  num = int(input(\"Guess a Number B/w 1 - 10 \"))\n",
        "else:\n",
        " print(\"You Got the number : 7\")\n"
      ],
      "metadata": {
        "colab": {
          "base_uri": "https://localhost:8080/"
        },
        "id": "79UHwHmKcyvb",
        "outputId": "ac6cfb47-f325-4824-a26e-ae4e5cb393ae"
      },
      "execution_count": null,
      "outputs": [
        {
          "output_type": "stream",
          "name": "stdout",
          "text": [
            "Guess a Number B/w 1 - 10 9\n",
            "Your Guess is not correct, Guess Again!!\n",
            "Guess a Number B/w 1 - 10 7\n",
            "You Got the number : 7\n"
          ]
        }
      ]
    },
    {
      "cell_type": "code",
      "source": [
        "#Print table of 7 but skip the numbers that are multiple of three\n",
        "# for i in range(10):\n",
        "#   if((i+1)%3==0):\n",
        "#     continue\n",
        "#   print(\"7 * \",i+1,\" = \",7*(i+1))\n",
        "\n",
        "# #Print Table of 5 but stop it before 6\n",
        "\n",
        "# for i in range(10):\n",
        "#   if(i+1==6):\n",
        "#     break\n",
        "#   print(\"5 * \",i+1,\" = \",5*(i+1))\n",
        "\n",
        "j=1\n",
        "#Using do while loop in python\n",
        "while True:\n",
        "  print(j)\n",
        "  j=j+1\n",
        "  if(j==10):\n",
        "    break\n"
      ],
      "metadata": {
        "colab": {
          "base_uri": "https://localhost:8080/"
        },
        "id": "iVWfsQaljdWM",
        "outputId": "ff2c1e3d-ff79-42fa-b211-17db153cfb56"
      },
      "execution_count": null,
      "outputs": [
        {
          "output_type": "stream",
          "name": "stdout",
          "text": [
            "1\n",
            "2\n",
            "3\n",
            "4\n",
            "5\n",
            "6\n",
            "7\n",
            "8\n",
            "9\n"
          ]
        }
      ]
    }
  ]
}